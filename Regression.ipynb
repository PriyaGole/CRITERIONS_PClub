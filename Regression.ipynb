{
 "cells": [
  {
   "cell_type": "code",
   "execution_count": 22,
   "id": "2f4d7b67",
   "metadata": {},
   "outputs": [],
   "source": [
    "import numpy as np\n",
    "import pandas as pd\n",
    "import matplotlib.pyplot as plt\n",
    "\n",
    "%matplotlib inline"
   ]
  },
  {
   "cell_type": "markdown",
   "id": "2d8dcd76",
   "metadata": {},
   "source": [
    "# LinearRegresion"
   ]
  },
  {
   "cell_type": "markdown",
   "id": "9d4d41a2",
   "metadata": {},
   "source": [
    "####  I took the data that roughly fits the equation y=15+4x.So, the desired value of theta is close to [[15] [4]]"
   ]
  },
  {
   "cell_type": "markdown",
   "id": "80f2634f",
   "metadata": {},
   "source": [
    "## Absolute cubed error loss function"
   ]
  },
  {
   "cell_type": "code",
   "execution_count": 23,
   "id": "39a788f2",
   "metadata": {},
   "outputs": [
    {
     "data": {
      "text/html": [
       "<div>\n",
       "<style scoped>\n",
       "    .dataframe tbody tr th:only-of-type {\n",
       "        vertical-align: middle;\n",
       "    }\n",
       "\n",
       "    .dataframe tbody tr th {\n",
       "        vertical-align: top;\n",
       "    }\n",
       "\n",
       "    .dataframe thead th {\n",
       "        text-align: right;\n",
       "    }\n",
       "</style>\n",
       "<table border=\"1\" class=\"dataframe\">\n",
       "  <thead>\n",
       "    <tr style=\"text-align: right;\">\n",
       "      <th></th>\n",
       "      <th>X0</th>\n",
       "      <th>X1</th>\n",
       "    </tr>\n",
       "  </thead>\n",
       "  <tbody>\n",
       "    <tr>\n",
       "      <th>0</th>\n",
       "      <td>1</td>\n",
       "      <td>2.730820</td>\n",
       "    </tr>\n",
       "    <tr>\n",
       "      <th>1</th>\n",
       "      <td>1</td>\n",
       "      <td>8.108788</td>\n",
       "    </tr>\n",
       "    <tr>\n",
       "      <th>2</th>\n",
       "      <td>1</td>\n",
       "      <td>0.912790</td>\n",
       "    </tr>\n",
       "    <tr>\n",
       "      <th>3</th>\n",
       "      <td>1</td>\n",
       "      <td>0.770963</td>\n",
       "    </tr>\n",
       "    <tr>\n",
       "      <th>4</th>\n",
       "      <td>1</td>\n",
       "      <td>5.417380</td>\n",
       "    </tr>\n",
       "  </tbody>\n",
       "</table>\n",
       "</div>"
      ],
      "text/plain": [
       "   X0        X1\n",
       "0   1  2.730820\n",
       "1   1  8.108788\n",
       "2   1  0.912790\n",
       "3   1  0.770963\n",
       "4   1  5.417380"
      ]
     },
     "execution_count": 23,
     "metadata": {},
     "output_type": "execute_result"
    }
   ],
   "source": [
    "X_train=pd.read_csv(\"DataX.csv\")\n",
    "y_train=pd.read_csv(\"DataY.csv\")\n",
    "\n",
    "X_train.insert(0, 'X0', 1)\n",
    "X_train.head()"
   ]
  },
  {
   "cell_type": "code",
   "execution_count": 24,
   "id": "9069e2c7",
   "metadata": {},
   "outputs": [],
   "source": [
    "X_train=X_train.to_numpy()\n",
    "y_train=y_train.to_numpy()\n",
    "y_train=np.reshape(y_train, (100, 1))"
   ]
  },
  {
   "cell_type": "code",
   "execution_count": 25,
   "id": "ade3fed4",
   "metadata": {},
   "outputs": [],
   "source": [
    "def cube(M):\n",
    "    sq=np.multiply(M,M)\n",
    "    cu=np.multiply(M,sq)\n",
    "    return cu\n",
    "\n",
    "def CostFunction(theta,X,y):\n",
    "    p=np.dot(X,theta)\n",
    "    cost=np.sum(abs(cube(np.subtract(p,y))))\n",
    "    return cost\n",
    "\n",
    "def GradientDescent(X,y,theta,alpha,iterations):\n",
    "    m=len(y)\n",
    "    cost_his=np.zeros(iterations)\n",
    "    theta_his=np.zeros((iterations,2))\n",
    "    for it in range(iterations):\n",
    "        q=np.dot(X,theta)\n",
    "        err=np.subtract(q,y)\n",
    "        sq_err=np.square(err)\n",
    "        for i in range(m):\n",
    "            if err[i]<0:\n",
    "                sq_err[i]=(-1)*sq_err[i]\n",
    "        theta=theta-alpha*(X.T.dot((sq_err)))\n",
    "        theta_his[it,:]=theta.T\n",
    "        cost_his[it]=CostFunction(theta,X,y)\n",
    "    return theta, cost_his, theta_his"
   ]
  },
  {
   "cell_type": "code",
   "execution_count": 26,
   "id": "328d5cd1",
   "metadata": {},
   "outputs": [
    {
     "name": "stdout",
     "output_type": "stream",
     "text": [
      "[[14.99448849]\n",
      " [ 3.90734145]]\n"
     ]
    }
   ],
   "source": [
    "learning_rate=0.00001\n",
    "n_itr=10000\n",
    "\n",
    "theta=np.zeros((2,1))\n",
    "\n",
    "theta,cost_history,theta_history=GradientDescent(X_train,y_train,theta,learning_rate,n_itr)\n",
    "\n",
    "print(theta)"
   ]
  },
  {
   "cell_type": "code",
   "execution_count": 27,
   "id": "5099925d",
   "metadata": {},
   "outputs": [
    {
     "data": {
      "image/png": "[encoded data removed]",
      "text/plain": [
       "<Figure size 432x288 with 1 Axes>"
      ]
     },
     "metadata": {
      "needs_background": "light"
     },
     "output_type": "display_data"
    }
   ],
   "source": [
    "Y_axis=cost_history\n",
    "X_axis=list(range(1, 10001))\n",
    "\n",
    "plt.scatter(X_axis, Y_axis,c='green',s=2)\n",
    "\n",
    "plt.xlabel('Iterations')\n",
    "plt.ylabel('Cost')\n",
    "plt.title('Decrease of Cost with each iteration')\n",
    "\n",
    "plt.show()"
   ]
  },
  {
   "cell_type": "code",
   "execution_count": 28,
   "id": "019ef6bf",
   "metadata": {},
   "outputs": [
    {
     "data": {
      "image/png": "[encoded data removed]",
      "text/plain": [
       "<Figure size 432x288 with 1 Axes>"
      ]
     },
     "metadata": {
      "needs_background": "light"
     },
     "output_type": "display_data"
    }
   ],
   "source": [
    "plt.scatter(X_train[:,1], y_train,s=10)\n",
    "\n",
    "plt.xlabel('X')\n",
    "plt.ylabel('y')\n",
    "\n",
    "y_pred=np.dot(X_train,theta)\n",
    "\n",
    "plt.plot(X_train[:,1],y_pred,color='red')\n",
    "\n",
    "plt.title('Data')\n",
    "\n",
    "plt.show()"
   ]
  },
  {
   "cell_type": "markdown",
   "id": "aab193b4",
   "metadata": {},
   "source": [
    "## Absolute error loss function"
   ]
  },
  {
   "cell_type": "code",
   "execution_count": 29,
   "id": "c991a372",
   "metadata": {},
   "outputs": [],
   "source": [
    "def CostFunction(theta,X,y):\n",
    "    p=np.dot(X,theta)\n",
    "    cost=np.sum(abs((np.subtract(p,y))))\n",
    "    return cost\n",
    "\n",
    "def GradientDescent(X,y,theta,alpha,iterations):\n",
    "    m=len(y)\n",
    "    cost_his=np.zeros(iterations)\n",
    "    theta_his=np.zeros((iterations,2))\n",
    "    for it in range(iterations):\n",
    "        q=np.dot(X,theta)\n",
    "        err=np.subtract(q,y)\n",
    "        grad=np.ones((m,1))\n",
    "        for i in range(m):\n",
    "            if err[i]<0:\n",
    "                grad[i][0]=(-1)\n",
    "        theta=theta-alpha*(X.T.dot((grad)))\n",
    "        theta_his[it,:]=theta.T\n",
    "        cost_his[it]=CostFunction(theta,X,y)\n",
    "    return theta, cost_his, theta_his    "
   ]
  },
  {
   "cell_type": "code",
   "execution_count": 30,
   "id": "81951cc3",
   "metadata": {},
   "outputs": [
    {
     "name": "stdout",
     "output_type": "stream",
     "text": [
      "[[14.6476    ]\n",
      " [ 4.06246221]]\n"
     ]
    }
   ],
   "source": [
    "learning_rate=0.0001\n",
    "n_itr=50000\n",
    "\n",
    "theta=np.zeros((2,1))\n",
    "\n",
    "theta,cost_history,theta_history=GradientDescent(X_train,y_train,theta,learning_rate,n_itr)\n",
    "\n",
    "print(theta)"
   ]
  },
  {
   "cell_type": "code",
   "execution_count": 31,
   "id": "e8448bb8",
   "metadata": {},
   "outputs": [
    {
     "data": {
      "image/png": "[encoded data removed]",
      "text/plain": [
       "<Figure size 432x288 with 1 Axes>"
      ]
     },
     "metadata": {
      "needs_background": "light"
     },
     "output_type": "display_data"
    }
   ],
   "source": [
    "Y_axis=cost_history\n",
    "X_axis=list(range(1, 50001))\n",
    "\n",
    "plt.scatter(X_axis, Y_axis,c='green',s=2)\n",
    "\n",
    "plt.xlabel('Iterations')\n",
    "\n",
    "plt.ylabel('Cost')\n",
    "\n",
    "plt.title('Decrease of Cost with each iteration')\n",
    "\n",
    "plt.show()"
   ]
  },
  {
   "cell_type": "code",
   "execution_count": 32,
   "id": "dab6d276",
   "metadata": {},
   "outputs": [
    {
     "data": {
      "image/png": "[encoded data removed]",
      "text/plain": [
       "<Figure size 432x288 with 1 Axes>"
      ]
     },
     "metadata": {
      "needs_background": "light"
     },
     "output_type": "display_data"
    }
   ],
   "source": [
    "plt.scatter(X_train[:,1], y_train,s=10)\n",
    "\n",
    "plt.xlabel('X')\n",
    "plt.ylabel('y')\n",
    "\n",
    "y_pred=np.dot(X_train,theta)\n",
    "\n",
    "plt.plot(X_train[:,1],y_pred,color='red')\n",
    "\n",
    "plt.title('Data')\n",
    "\n",
    "plt.show()"
   ]
  },
  {
   "cell_type": "markdown",
   "id": "7ade3f55",
   "metadata": {},
   "source": [
    "##### Desired value is close to [[15] [4]]\n",
    "##### We got,\n",
    "##### For absolute cubed error loss, theta = [[14.99448849] [3.90734145]]\n",
    "##### For absolute error loss, theta = [[14.6476] [4.06246221]]\n",
    "##### So, both cost functions gave us fairly good value of parameters. "
   ]
  },
  {
   "cell_type": "markdown",
   "id": "6e475530",
   "metadata": {},
   "source": [
    "# PolynomialRegresion"
   ]
  },
  {
   "cell_type": "markdown",
   "id": "58f5f1b6",
   "metadata": {},
   "source": [
    "####  I took the data that roughly fits the equation y=1+x+2(x^2).So, the desired value of theta is close to [[1] [1] [2]]"
   ]
  },
  {
   "cell_type": "markdown",
   "id": "ab99c02e",
   "metadata": {},
   "source": [
    "## Absolute \"fourth degree\" error loss function"
   ]
  },
  {
   "cell_type": "code",
   "execution_count": 33,
   "id": "310361db",
   "metadata": {},
   "outputs": [
    {
     "data": {
      "text/html": [
       "<div>\n",
       "<style scoped>\n",
       "    .dataframe tbody tr th:only-of-type {\n",
       "        vertical-align: middle;\n",
       "    }\n",
       "\n",
       "    .dataframe tbody tr th {\n",
       "        vertical-align: top;\n",
       "    }\n",
       "\n",
       "    .dataframe thead th {\n",
       "        text-align: right;\n",
       "    }\n",
       "</style>\n",
       "<table border=\"1\" class=\"dataframe\">\n",
       "  <thead>\n",
       "    <tr style=\"text-align: right;\">\n",
       "      <th></th>\n",
       "      <th>X0</th>\n",
       "      <th>X1</th>\n",
       "      <th>X2</th>\n",
       "    </tr>\n",
       "  </thead>\n",
       "  <tbody>\n",
       "    <tr>\n",
       "      <th>0</th>\n",
       "      <td>1</td>\n",
       "      <td>6.085054</td>\n",
       "      <td>37.027885</td>\n",
       "    </tr>\n",
       "    <tr>\n",
       "      <th>1</th>\n",
       "      <td>1</td>\n",
       "      <td>9.489777</td>\n",
       "      <td>90.055860</td>\n",
       "    </tr>\n",
       "    <tr>\n",
       "      <th>2</th>\n",
       "      <td>1</td>\n",
       "      <td>-8.109226</td>\n",
       "      <td>65.759541</td>\n",
       "    </tr>\n",
       "    <tr>\n",
       "      <th>3</th>\n",
       "      <td>1</td>\n",
       "      <td>-8.502455</td>\n",
       "      <td>72.291749</td>\n",
       "    </tr>\n",
       "    <tr>\n",
       "      <th>4</th>\n",
       "      <td>1</td>\n",
       "      <td>-8.092688</td>\n",
       "      <td>65.491601</td>\n",
       "    </tr>\n",
       "  </tbody>\n",
       "</table>\n",
       "</div>"
      ],
      "text/plain": [
       "   X0        X1         X2\n",
       "0   1  6.085054  37.027885\n",
       "1   1  9.489777  90.055860\n",
       "2   1 -8.109226  65.759541\n",
       "3   1 -8.502455  72.291749\n",
       "4   1 -8.092688  65.491601"
      ]
     },
     "execution_count": 33,
     "metadata": {},
     "output_type": "execute_result"
    }
   ],
   "source": [
    "X_train=pd.read_csv(\"DataX1.csv\")\n",
    "\n",
    "y_train=pd.read_csv(\"DataY1.csv\")\n",
    "\n",
    "X_train.insert(0, 'X0', 1)\n",
    "X_train['X2']=X_train['X1']**2\n",
    "\n",
    "X_train.head()"
   ]
  },
  {
   "cell_type": "code",
   "execution_count": 34,
   "id": "682cefce",
   "metadata": {},
   "outputs": [],
   "source": [
    "X_train=X_train.to_numpy()\n",
    "y_train=y_train.to_numpy()\n",
    "y_train=np.reshape(y_train, (100, 1))"
   ]
  },
  {
   "cell_type": "code",
   "execution_count": 35,
   "id": "0273d25a",
   "metadata": {},
   "outputs": [],
   "source": [
    "def cube(M):\n",
    "    sq=np.multiply(M,M)\n",
    "    cu=np.multiply(M,sq)\n",
    "    return cu\n",
    "\n",
    "def pow4(M):\n",
    "    sq=np.multiply(M,M)\n",
    "    p4=np.multiply(sq,sq)\n",
    "    return p4\n",
    "\n",
    "def CostFunction(theta,X,y):\n",
    "    m=len(y)\n",
    "    p=np.dot(X,theta)\n",
    "    cost=(np.sum(abs(pow4(np.subtract(p,y)))))\n",
    "    return cost\n",
    "\n",
    "def GradientDescent(X,y,theta,alpha,iterations):\n",
    "    m=len(y)\n",
    "    cost_his=np.zeros(iterations)\n",
    "    theta_his=np.zeros((iterations,3))\n",
    "    for it in range(iterations):\n",
    "        q=np.dot(X,theta)\n",
    "        err=np.subtract(q,y)\n",
    "        cu_err=cube(err)/(m*m)\n",
    "        for i in range(m):\n",
    "            if err[i]>0:\n",
    "                cu_err[i]=(-1)*cu_err[i]\n",
    "        theta=theta-alpha*(X.T.dot((cu_err)))\n",
    "        theta_his[it,:]=theta.T\n",
    "        cost_his[it]=CostFunction(theta,X,y)\n",
    "    return theta, cost_his, theta_his"
   ]
  },
  {
   "cell_type": "code",
   "execution_count": 36,
   "id": "19eba9c1",
   "metadata": {},
   "outputs": [
    {
     "name": "stdout",
     "output_type": "stream",
     "text": [
      "[[1.01463795]\n",
      " [0.99882387]\n",
      " [1.98143011]]\n"
     ]
    }
   ],
   "source": [
    "learning_rate=0.00000001\n",
    "n_itr=50000\n",
    "\n",
    "theta=np.ones((3,1))\n",
    "\n",
    "theta,cost_history,theta_history=GradientDescent(X_train,y_train,theta,learning_rate,n_itr)\n",
    "\n",
    "print(theta)"
   ]
  },
  {
   "cell_type": "code",
   "execution_count": 37,
   "id": "cc7a6620",
   "metadata": {},
   "outputs": [
    {
     "data": {
      "image/png": "[encoded data removed]",
      "text/plain": [
       "<Figure size 432x288 with 1 Axes>"
      ]
     },
     "metadata": {
      "needs_background": "light"
     },
     "output_type": "display_data"
    }
   ],
   "source": [
    "Y_axis=cost_history\n",
    "X_axis=list(range(1, 50001))\n",
    "\n",
    "plt.scatter(X_axis, Y_axis,c='green',s=2)\n",
    "\n",
    "plt.xlabel('Iterations')\n",
    "\n",
    "plt.ylabel('Cost')\n",
    "\n",
    "plt.title('Decrease of Cost with each iteration')\n",
    "\n",
    "plt.show()"
   ]
  },
  {
   "cell_type": "code",
   "execution_count": 38,
   "id": "17972c42",
   "metadata": {},
   "outputs": [
    {
     "data": {
      "text/plain": [
       "<matplotlib.legend.Legend at 0x247a326b9d0>"
      ]
     },
     "execution_count": 38,
     "metadata": {},
     "output_type": "execute_result"
    },
    {
     "data": {
      "image/png": "[encoded data removed]",
      "text/plain": [
       "<Figure size 432x288 with 1 Axes>"
      ]
     },
     "metadata": {
      "needs_background": "light"
     },
     "output_type": "display_data"
    }
   ],
   "source": [
    "x_train=np.linspace(-10, 10, 100)\n",
    "\n",
    "y_pred=theta[0][0]+theta[1][0]*(x_train)+theta[2][0]*(x_train**2)\n",
    "\n",
    "fig, ax = plt.subplots()\n",
    "\n",
    "plt.scatter(X_train[:,1], y_train,s=10)\n",
    "ax.plot(x_train, y_pred,c='red')\n",
    "\n",
    "plt.legend([\"PolynomialFit\", \"Dataset\"])"
   ]
  },
  {
   "cell_type": "markdown",
   "id": "27c14f2a",
   "metadata": {},
   "source": [
    "## Absolute \"seventh degree\" error loss function"
   ]
  },
  {
   "cell_type": "code",
   "execution_count": 39,
   "id": "e2450116",
   "metadata": {},
   "outputs": [],
   "source": [
    "def pow6(M):\n",
    "    sq=np.multiply(M,M)\n",
    "    cu=np.multiply(M,sq)\n",
    "    p6=np.multiply(cu,cu)\n",
    "    return p6\n",
    "\n",
    "def pow7(M):\n",
    "    m=pow6(M)\n",
    "    p7=np.multiply(m,M)\n",
    "    return p7\n",
    "\n",
    "def CostFunction(theta,X,y):\n",
    "    m=len(y)\n",
    "    p=np.dot(X,theta)\n",
    "    cost=(np.sum(abs(pow7(np.subtract(p,y)))))/(m*m*m*m)\n",
    "    return cost\n",
    "\n",
    "def GradientDescent(X,y,theta,alpha,iterations):\n",
    "    m=len(y)\n",
    "    cost_his=np.zeros(iterations)\n",
    "    theta_his=np.zeros((iterations,3))\n",
    "    for it in range(iterations):\n",
    "        q=np.dot(X,theta)\n",
    "        err=np.subtract(q,y)\n",
    "        s_err=pow6(err)/(m*m*m*m)\n",
    "        for i in range(m):\n",
    "            if err[i]<0:\n",
    "                s_err[i]=(-1)*s_err[i]\n",
    "        theta=theta-alpha*(X.T.dot((s_err)))\n",
    "        theta_his[it,:]=theta.T\n",
    "        cost_his[it]=CostFunction(theta,X,y)\n",
    "    return theta, cost_his, theta_his\n",
    " "
   ]
  },
  {
   "cell_type": "code",
   "execution_count": 40,
   "id": "566a204b",
   "metadata": {},
   "outputs": [
    {
     "name": "stdout",
     "output_type": "stream",
     "text": [
      "[[1.00994373]\n",
      " [1.02028566]\n",
      " [1.83644596]]\n"
     ]
    }
   ],
   "source": [
    "learning_rate=0.000000001\n",
    "n_itr=50000\n",
    "\n",
    "theta=np.ones((3,1))\n",
    "\n",
    "theta,cost_history,theta_history=GradientDescent(X_train,y_train,theta,learning_rate,n_itr)\n",
    "\n",
    "print(theta)"
   ]
  },
  {
   "cell_type": "code",
   "execution_count": 41,
   "id": "837f64da",
   "metadata": {},
   "outputs": [
    {
     "data": {
      "image/png": "[encoded data removed]",
      "text/plain": [
       "<Figure size 432x288 with 1 Axes>"
      ]
     },
     "metadata": {
      "needs_background": "light"
     },
     "output_type": "display_data"
    }
   ],
   "source": [
    "Y_axis=cost_history\n",
    "X_axis=list(range(1, 50001))\n",
    "\n",
    "plt.scatter(X_axis, Y_axis,c='green',s=2)\n",
    "\n",
    "plt.xlabel('Iterations')\n",
    "\n",
    "plt.ylabel('Cost')\n",
    "\n",
    "plt.title('Decrease of Cost with each iteration')\n",
    "\n",
    "plt.show()"
   ]
  },
  {
   "cell_type": "code",
   "execution_count": 42,
   "id": "901caf66",
   "metadata": {},
   "outputs": [
    {
     "data": {
      "text/plain": [
       "<matplotlib.legend.Legend at 0x247a324c6d0>"
      ]
     },
     "execution_count": 42,
     "metadata": {},
     "output_type": "execute_result"
    },
    {
     "data": {
      "image/png": "[encoded data removed]",
      "text/plain": [
       "<Figure size 432x288 with 1 Axes>"
      ]
     },
     "metadata": {
      "needs_background": "light"
     },
     "output_type": "display_data"
    }
   ],
   "source": [
    "x_train=np.linspace(-10, 10, 100)\n",
    "\n",
    "y_pred=theta[0][0]+theta[1][0]*(x_train)+theta[2][0]*(x_train**2)\n",
    "\n",
    "fig, ax = plt.subplots()\n",
    "\n",
    "plt.scatter(X_train[:,1], y_train,s=10)\n",
    "ax.plot(x_train, y_pred,c='red')\n",
    "\n",
    "plt.legend([\"PolynomialFit\", \"Dataset\"])"
   ]
  },
  {
   "cell_type": "markdown",
   "id": "10ea99b7",
   "metadata": {},
   "source": [
    "##### Desired value of theta is close to [[1] [1] [2]]\n",
    "##### We got,\n",
    "##### For absolute \"fourth degree\" error loss, theta = [[1.01463795] [0.99882387] [1.98143011]]\n",
    "##### For absolute \"seventh degree\" loss, theta = [[1.00994373] [1.02028566] [1.83644596]]\n",
    "##### Here also, both the cost functions gave us fairly good value of parameters. "
   ]
  }
 ],
 "metadata": {
  "kernelspec": {
   "display_name": "Python 3",
   "language": "python",
   "name": "python3"
  },
  "language_info": {
   "codemirror_mode": {
    "name": "ipython",
    "version": 3
   },
   "file_extension": ".py",
   "mimetype": "text/x-python",
   "name": "python",
   "nbconvert_exporter": "python",
   "pygments_lexer": "ipython3",
   "version": "3.8.8"
  }
 },
 "nbformat": 4,
 "nbformat_minor": 5
}
